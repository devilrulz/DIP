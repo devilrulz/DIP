{
 "cells": [
  {
   "cell_type": "code",
   "execution_count": 1,
   "id": "b99e88b6",
   "metadata": {},
   "outputs": [
    {
     "name": "stdout",
     "output_type": "stream",
     "text": [
      "Image converted and saved as output_image.jpg\n"
     ]
    }
   ],
   "source": [
    "import cv2\n",
    "input_path = 'hanu.png' \n",
    "output_path = 'output_image.jpg'\n",
    "src = cv2.imread(input_path)\n",
    "if src is not None:\n",
    "    cv2.imwrite(output_path, src)\n",
    "    print(f\"Image converted and saved as {output_path}\")\n",
    "else:\n",
    "    print(\"Error: Image not found or cannot be read.\")"
   ]
  },
  {
   "cell_type": "code",
   "execution_count": null,
   "id": "3042d14a",
   "metadata": {},
   "outputs": [],
   "source": []
  }
 ],
 "metadata": {
  "kernelspec": {
   "display_name": "Python 3",
   "language": "python",
   "name": "python3"
  },
  "language_info": {
   "codemirror_mode": {
    "name": "ipython",
    "version": 3
   },
   "file_extension": ".py",
   "mimetype": "text/x-python",
   "name": "python",
   "nbconvert_exporter": "python",
   "pygments_lexer": "ipython3",
   "version": "3.8.8"
  }
 },
 "nbformat": 4,
 "nbformat_minor": 5
}
