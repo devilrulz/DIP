{
 "cells": [
  {
   "cell_type": "code",
   "execution_count": null,
   "id": "af7b7d43",
   "metadata": {},
   "outputs": [],
   "source": [
    "import cv2 \n",
    "import numpy as np \n",
    "\n",
    "\n",
    "def threshold_image(input_path, output_path, threshold_values): \n",
    "    try: \n",
    "\n",
    "        img = cv2.imread(input_path, cv2.IMREAD_GRAYSCALE) \n",
    "\n",
    "        thresholded_images = [cv2.threshold(img, threshold, 255, cv2.THRESH_BINARY)[1] for threshold in threshold_values] \n",
    "\n",
    "        for i, thresholded_img in enumerate(thresholded_images):\n",
    "            cv2.imshow(f\"Threshold {i+1}\", thresholded_img) \n",
    "            cv2.imshow(output_path.format(i+1), thresholded_img) \n",
    "\n",
    "        cv2.waitKey(0) \n",
    "        cv2.destroyAllWindows() \n",
    "\n",
    "    except Exception as e:\n",
    "        print(f\"Error: {e}\") \n",
    "        \n",
    "input_path = \"D:\\\\flower.jpg\"\n",
    "\n",
    "output_path_template = \"D:\\\\flowerth.jpg\"\n",
    "\n",
    "threshold_values = [100, 150, 200] \n",
    "\n",
    "threshold_image(input_path, output_path_template, threshold_values) \n",
    " \n",
    "\n"
   ]
  },
  {
   "cell_type": "code",
   "execution_count": null,
   "id": "54b0e5b3",
   "metadata": {},
   "outputs": [],
   "source": []
  }
 ],
 "metadata": {
  "kernelspec": {
   "display_name": "Python 3 (ipykernel)",
   "language": "python",
   "name": "python3"
  },
  "language_info": {
   "codemirror_mode": {
    "name": "ipython",
    "version": 3
   },
   "file_extension": ".py",
   "mimetype": "text/x-python",
   "name": "python",
   "nbconvert_exporter": "python",
   "pygments_lexer": "ipython3",
   "version": "3.8.13"
  }
 },
 "nbformat": 4,
 "nbformat_minor": 5
}
